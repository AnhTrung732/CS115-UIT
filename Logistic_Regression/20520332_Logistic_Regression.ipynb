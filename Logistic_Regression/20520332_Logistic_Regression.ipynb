{
  "cells": [
    {
      "cell_type": "code",
      "execution_count": 45,
      "metadata": {
        "id": "GM3_8ffymtas"
      },
      "outputs": [],
      "source": [
        "import os\n",
        "import cv2\n",
        "import numpy as np\n",
        "from sklearn.model_selection import train_test_split\n",
        "from sklearn.metrics import accuracy_score, precision_score, recall_score,f1_score, classification_report\n",
        "from sklearn.linear_model import LogisticRegression\n",
        "from skimage.feature import hog\n",
        "from sklearn.preprocessing import LabelEncoder"
      ]
    },
    {
      "cell_type": "code",
      "execution_count": 46,
      "metadata": {
        "colab": {
          "base_uri": "https://localhost:8080/"
        },
        "id": "im1H0WZ_V1hV",
        "outputId": "23e24d75-e0ea-4b11-845e-8bb79daf3fb5"
      },
      "outputs": [
        {
          "name": "stdout",
          "output_type": "stream",
          "text": [
            "Drive already mounted at /content/drive; to attempt to forcibly remount, call drive.mount(\"/content/drive\", force_remount=True).\n"
          ]
        }
      ],
      "source": [
        "from google.colab import drive\n",
        "drive.mount('/content/drive')"
      ]
    },
    {
      "cell_type": "code",
      "execution_count": 47,
      "metadata": {
        "colab": {
          "base_uri": "https://localhost:8080/"
        },
        "id": "lv99lLyFayYa",
        "outputId": "b5503f79-d5d8-4895-82a2-cb302a0ea71e"
      },
      "outputs": [
        {
          "name": "stdout",
          "output_type": "stream",
          "text": [
            "/content/drive/MyDrive/Toán cho KHMT/folio\n"
          ]
        }
      ],
      "source": [
        "cd \"/content/drive/MyDrive/Toán cho KHMT/folio\"\n"
      ]
    },
    {
      "cell_type": "code",
      "execution_count": 48,
      "metadata": {
        "id": "WsVfIvvra9Qt"
      },
      "outputs": [],
      "source": [
        "X = []\n",
        "y = []"
      ]
    },
    {
      "cell_type": "code",
      "execution_count": 49,
      "metadata": {
        "colab": {
          "base_uri": "https://localhost:8080/"
        },
        "id": "dtjdRYumTncv",
        "outputId": "e8f206ae-2855-4e78-f1bf-51e809a0bc11"
      },
      "outputs": [
        {
          "name": "stdout",
          "output_type": "stream",
          "text": [
            "/caricature plant\n",
            "/caricature plant\n",
            "/caricature plant\n",
            "/caricature plant\n",
            "/caricature plant\n",
            "/caricature plant\n",
            "/caricature plant\n",
            "/caricature plant\n",
            "/caricature plant\n",
            "/caricature plant\n",
            "/caricature plant\n",
            "/caricature plant\n",
            "/caricature plant\n",
            "/caricature plant\n",
            "/caricature plant\n",
            "/caricature plant\n",
            "/caricature plant\n",
            "/caricature plant\n",
            "/caricature plant\n",
            "/caricature plant\n",
            "/coeur demoiselle\n",
            "/coeur demoiselle\n",
            "/coeur demoiselle\n",
            "/coeur demoiselle\n",
            "/coeur demoiselle\n",
            "/coeur demoiselle\n",
            "/coeur demoiselle\n",
            "/coeur demoiselle\n",
            "/coeur demoiselle\n",
            "/coeur demoiselle\n",
            "/coeur demoiselle\n",
            "/coeur demoiselle\n",
            "/coeur demoiselle\n",
            "/coeur demoiselle\n",
            "/coeur demoiselle\n",
            "/coeur demoiselle\n",
            "/coeur demoiselle\n",
            "/coeur demoiselle\n",
            "/coeur demoiselle\n",
            "/coeur demoiselle\n",
            "/mulberry leaf\n",
            "/mulberry leaf\n",
            "/mulberry leaf\n",
            "/mulberry leaf\n",
            "/mulberry leaf\n",
            "/mulberry leaf\n",
            "/mulberry leaf\n",
            "/mulberry leaf\n",
            "/mulberry leaf\n",
            "/mulberry leaf\n",
            "/mulberry leaf\n",
            "/mulberry leaf\n",
            "/mulberry leaf\n",
            "/mulberry leaf\n",
            "/mulberry leaf\n",
            "/mulberry leaf\n",
            "/mulberry leaf\n",
            "/mulberry leaf\n",
            "/mulberry leaf\n",
            "/coffee\n",
            "/coffee\n",
            "/coffee\n",
            "/coffee\n",
            "/coffee\n",
            "/coffee\n",
            "/coffee\n",
            "/coffee\n",
            "/coffee\n",
            "/coffee\n",
            "/coffee\n",
            "/coffee\n",
            "/coffee\n",
            "/coffee\n",
            "/coffee\n",
            "/coffee\n",
            "/coffee\n",
            "/coffee\n",
            "/coffee\n",
            "/coffee\n",
            "/barbados cherry\n",
            "/barbados cherry\n",
            "/barbados cherry\n",
            "/barbados cherry\n",
            "/barbados cherry\n",
            "/barbados cherry\n",
            "/barbados cherry\n",
            "/barbados cherry\n",
            "/barbados cherry\n",
            "/barbados cherry\n",
            "/barbados cherry\n",
            "/barbados cherry\n",
            "/barbados cherry\n",
            "/barbados cherry\n",
            "/barbados cherry\n",
            "/barbados cherry\n",
            "/barbados cherry\n",
            "/barbados cherry\n",
            "/barbados cherry\n",
            "/barbados cherry\n",
            "/betel\n",
            "/betel\n",
            "/betel\n",
            "/betel\n",
            "/betel\n",
            "/betel\n",
            "/betel\n",
            "/betel\n",
            "/betel\n",
            "/betel\n",
            "/betel\n",
            "/betel\n",
            "/betel\n",
            "/betel\n",
            "/betel\n",
            "/betel\n",
            "/betel\n",
            "/betel\n",
            "/betel\n",
            "/betel\n",
            "/ashanti blood\n",
            "/ashanti blood\n",
            "/ashanti blood\n",
            "/ashanti blood\n",
            "/ashanti blood\n",
            "/ashanti blood\n",
            "/ashanti blood\n",
            "/ashanti blood\n",
            "/ashanti blood\n",
            "/ashanti blood\n",
            "/ashanti blood\n",
            "/ashanti blood\n",
            "/ashanti blood\n",
            "/ashanti blood\n",
            "/ashanti blood\n",
            "/ashanti blood\n",
            "/ashanti blood\n",
            "/ashanti blood\n",
            "/ashanti blood\n",
            "/ashanti blood\n",
            "/jackfruit\n",
            "/jackfruit\n",
            "/jackfruit\n",
            "/jackfruit\n",
            "/jackfruit\n",
            "/jackfruit\n",
            "/jackfruit\n",
            "/jackfruit\n",
            "/jackfruit\n",
            "/jackfruit\n",
            "/jackfruit\n",
            "/jackfruit\n",
            "/jackfruit\n",
            "/jackfruit\n",
            "/jackfruit\n",
            "/jackfruit\n",
            "/jackfruit\n",
            "/jackfruit\n",
            "/jackfruit\n",
            "/jackfruit\n",
            "/bitter orange\n",
            "/bitter orange\n",
            "/bitter orange\n",
            "/bitter orange\n",
            "/bitter orange\n",
            "/bitter orange\n",
            "/bitter orange\n",
            "/bitter orange\n",
            "/bitter orange\n",
            "/bitter orange\n",
            "/bitter orange\n",
            "/bitter orange\n",
            "/bitter orange\n",
            "/bitter orange\n",
            "/bitter orange\n",
            "/bitter orange\n",
            "/bitter orange\n",
            "/bitter orange\n",
            "/bitter orange\n",
            "/bitter orange\n",
            "/croton\n",
            "/croton\n",
            "/croton\n",
            "/croton\n",
            "/croton\n",
            "/croton\n",
            "/croton\n",
            "/croton\n",
            "/croton\n",
            "/croton\n",
            "/croton\n",
            "/croton\n",
            "/croton\n",
            "/croton\n",
            "/croton\n",
            "/croton\n",
            "/croton\n",
            "/croton\n",
            "/croton\n",
            "/croton\n"
          ]
        },
        {
          "data": {
            "text/plain": [
              "['/content/drive/MyDrive/Toán cho KHMT/folio/caricature plant/20150410_155029.jpg',\n",
              " '/content/drive/MyDrive/Toán cho KHMT/folio/caricature plant/20150410_155142.jpg',\n",
              " '/content/drive/MyDrive/Toán cho KHMT/folio/caricature plant/20150410_154918.jpg',\n",
              " '/content/drive/MyDrive/Toán cho KHMT/folio/caricature plant/20150410_155116.jpg',\n",
              " '/content/drive/MyDrive/Toán cho KHMT/folio/caricature plant/20150622_121052.jpg',\n",
              " '/content/drive/MyDrive/Toán cho KHMT/folio/caricature plant/20150410_155156.jpg',\n",
              " '/content/drive/MyDrive/Toán cho KHMT/folio/caricature plant/20150410_155003.jpg',\n",
              " '/content/drive/MyDrive/Toán cho KHMT/folio/caricature plant/20150410_155100.jpg',\n",
              " '/content/drive/MyDrive/Toán cho KHMT/folio/caricature plant/20150410_155016.jpg',\n",
              " '/content/drive/MyDrive/Toán cho KHMT/folio/caricature plant/20150410_154804.jpg',\n",
              " '/content/drive/MyDrive/Toán cho KHMT/folio/caricature plant/20150410_154952.jpg',\n",
              " '/content/drive/MyDrive/Toán cho KHMT/folio/caricature plant/20150410_154819.jpg',\n",
              " '/content/drive/MyDrive/Toán cho KHMT/folio/caricature plant/20150410_154904.jpg',\n",
              " '/content/drive/MyDrive/Toán cho KHMT/folio/caricature plant/20150410_155039.jpg',\n",
              " '/content/drive/MyDrive/Toán cho KHMT/folio/caricature plant/20150410_154830.jpg',\n",
              " '/content/drive/MyDrive/Toán cho KHMT/folio/caricature plant/20150410_154842.jpg',\n",
              " '/content/drive/MyDrive/Toán cho KHMT/folio/caricature plant/20150410_154927.jpg',\n",
              " '/content/drive/MyDrive/Toán cho KHMT/folio/caricature plant/20150410_155124.jpg',\n",
              " '/content/drive/MyDrive/Toán cho KHMT/folio/caricature plant/20150410_154744.jpg',\n",
              " '/content/drive/MyDrive/Toán cho KHMT/folio/caricature plant/20150410_154853.jpg',\n",
              " '/content/drive/MyDrive/Toán cho KHMT/folio/coeur demoiselle/20150622_121150.jpg',\n",
              " '/content/drive/MyDrive/Toán cho KHMT/folio/coeur demoiselle/20150319_121416.jpg',\n",
              " '/content/drive/MyDrive/Toán cho KHMT/folio/coeur demoiselle/20150319_121428.jpg',\n",
              " '/content/drive/MyDrive/Toán cho KHMT/folio/coeur demoiselle/20150319_121240.jpg',\n",
              " '/content/drive/MyDrive/Toán cho KHMT/folio/coeur demoiselle/20150319_121145.jpg',\n",
              " '/content/drive/MyDrive/Toán cho KHMT/folio/coeur demoiselle/20150622_121229.jpg',\n",
              " '/content/drive/MyDrive/Toán cho KHMT/folio/coeur demoiselle/20150622_121216.jpg',\n",
              " '/content/drive/MyDrive/Toán cho KHMT/folio/coeur demoiselle/20150319_121119.jpg',\n",
              " '/content/drive/MyDrive/Toán cho KHMT/folio/coeur demoiselle/20150319_121130.jpg',\n",
              " '/content/drive/MyDrive/Toán cho KHMT/folio/coeur demoiselle/20150319_121200.jpg',\n",
              " '/content/drive/MyDrive/Toán cho KHMT/folio/coeur demoiselle/20150319_121026.jpg',\n",
              " '/content/drive/MyDrive/Toán cho KHMT/folio/coeur demoiselle/20150622_121200.jpg',\n",
              " '/content/drive/MyDrive/Toán cho KHMT/folio/coeur demoiselle/20150319_120951.jpg',\n",
              " '/content/drive/MyDrive/Toán cho KHMT/folio/coeur demoiselle/20150622_121329.jpg',\n",
              " '/content/drive/MyDrive/Toán cho KHMT/folio/coeur demoiselle/20150319_121039.jpg',\n",
              " '/content/drive/MyDrive/Toán cho KHMT/folio/coeur demoiselle/20150319_121406.jpg',\n",
              " '/content/drive/MyDrive/Toán cho KHMT/folio/coeur demoiselle/20150319_121256.jpg',\n",
              " '/content/drive/MyDrive/Toán cho KHMT/folio/coeur demoiselle/20150622_121300.jpg',\n",
              " '/content/drive/MyDrive/Toán cho KHMT/folio/coeur demoiselle/20150622_121315.jpg',\n",
              " '/content/drive/MyDrive/Toán cho KHMT/folio/coeur demoiselle/20150319_121004.jpg',\n",
              " '/content/drive/MyDrive/Toán cho KHMT/folio/mulberry leaf/20150324_173325.jpg',\n",
              " '/content/drive/MyDrive/Toán cho KHMT/folio/mulberry leaf/20150324_173532.jpg',\n",
              " '/content/drive/MyDrive/Toán cho KHMT/folio/mulberry leaf/20150324_145038.jpg',\n",
              " '/content/drive/MyDrive/Toán cho KHMT/folio/mulberry leaf/20150324_145023.jpg',\n",
              " '/content/drive/MyDrive/Toán cho KHMT/folio/mulberry leaf/20150324_144944.jpg',\n",
              " '/content/drive/MyDrive/Toán cho KHMT/folio/mulberry leaf/20150324_144537.jpg',\n",
              " '/content/drive/MyDrive/Toán cho KHMT/folio/mulberry leaf/20150324_145002.jpg',\n",
              " '/content/drive/MyDrive/Toán cho KHMT/folio/mulberry leaf/20150324_144847.jpg',\n",
              " '/content/drive/MyDrive/Toán cho KHMT/folio/mulberry leaf/20150324_173335.jpg',\n",
              " '/content/drive/MyDrive/Toán cho KHMT/folio/mulberry leaf/20150324_144637.jpg',\n",
              " '/content/drive/MyDrive/Toán cho KHMT/folio/mulberry leaf/20150324_173358.jpg',\n",
              " '/content/drive/MyDrive/Toán cho KHMT/folio/mulberry leaf/20150324_144712.jpg',\n",
              " '/content/drive/MyDrive/Toán cho KHMT/folio/mulberry leaf/20150324_144928.jpg',\n",
              " '/content/drive/MyDrive/Toán cho KHMT/folio/mulberry leaf/20150324_144651.jpg',\n",
              " '/content/drive/MyDrive/Toán cho KHMT/folio/mulberry leaf/20150324_144857.jpg',\n",
              " '/content/drive/MyDrive/Toán cho KHMT/folio/mulberry leaf/20150324_173311.jpg',\n",
              " '/content/drive/MyDrive/Toán cho KHMT/folio/mulberry leaf/20150324_144742.jpg',\n",
              " '/content/drive/MyDrive/Toán cho KHMT/folio/mulberry leaf/20150324_144731.jpg',\n",
              " '/content/drive/MyDrive/Toán cho KHMT/folio/mulberry leaf/20150324_144802.jpg',\n",
              " '/content/drive/MyDrive/Toán cho KHMT/folio/coffee/20150324_154733.jpg',\n",
              " '/content/drive/MyDrive/Toán cho KHMT/folio/coffee/20150324_154930.jpg',\n",
              " '/content/drive/MyDrive/Toán cho KHMT/folio/coffee/20150324_154911.jpg',\n",
              " '/content/drive/MyDrive/Toán cho KHMT/folio/coffee/20150324_154949.jpg',\n",
              " '/content/drive/MyDrive/Toán cho KHMT/folio/coffee/20150324_154645.jpg',\n",
              " '/content/drive/MyDrive/Toán cho KHMT/folio/coffee/20150324_154919.jpg',\n",
              " '/content/drive/MyDrive/Toán cho KHMT/folio/coffee/20150324_154610.jpg',\n",
              " '/content/drive/MyDrive/Toán cho KHMT/folio/coffee/20150324_154356.jpg',\n",
              " '/content/drive/MyDrive/Toán cho KHMT/folio/coffee/20150324_154432.jpg',\n",
              " '/content/drive/MyDrive/Toán cho KHMT/folio/coffee/20150324_154455.jpg',\n",
              " '/content/drive/MyDrive/Toán cho KHMT/folio/coffee/20150324_154601.jpg',\n",
              " '/content/drive/MyDrive/Toán cho KHMT/folio/coffee/20150324_154546.jpg',\n",
              " '/content/drive/MyDrive/Toán cho KHMT/folio/coffee/20150324_154856.jpg',\n",
              " '/content/drive/MyDrive/Toán cho KHMT/folio/coffee/20150324_154415.jpg',\n",
              " '/content/drive/MyDrive/Toán cho KHMT/folio/coffee/20150324_155005.jpg',\n",
              " '/content/drive/MyDrive/Toán cho KHMT/folio/coffee/20150324_154519.jpg',\n",
              " '/content/drive/MyDrive/Toán cho KHMT/folio/coffee/20150324_154533.jpg',\n",
              " '/content/drive/MyDrive/Toán cho KHMT/folio/coffee/20150324_154748.jpg',\n",
              " '/content/drive/MyDrive/Toán cho KHMT/folio/coffee/20150324_154553.jpg',\n",
              " '/content/drive/MyDrive/Toán cho KHMT/folio/coffee/20150324_154837.jpg',\n",
              " '/content/drive/MyDrive/Toán cho KHMT/folio/barbados cherry/20150324_170047.jpg',\n",
              " '/content/drive/MyDrive/Toán cho KHMT/folio/barbados cherry/20150324_170214.jpg',\n",
              " '/content/drive/MyDrive/Toán cho KHMT/folio/barbados cherry/20150324_170354.jpg',\n",
              " '/content/drive/MyDrive/Toán cho KHMT/folio/barbados cherry/20150324_170405.jpg',\n",
              " '/content/drive/MyDrive/Toán cho KHMT/folio/barbados cherry/20150324_165844.jpg',\n",
              " '/content/drive/MyDrive/Toán cho KHMT/folio/barbados cherry/20150324_170154.jpg',\n",
              " '/content/drive/MyDrive/Toán cho KHMT/folio/barbados cherry/20150324_170335.jpg',\n",
              " '/content/drive/MyDrive/Toán cho KHMT/folio/barbados cherry/20150324_170324.jpg',\n",
              " '/content/drive/MyDrive/Toán cho KHMT/folio/barbados cherry/20150324_165907.jpg',\n",
              " '/content/drive/MyDrive/Toán cho KHMT/folio/barbados cherry/20150324_170203.jpg',\n",
              " '/content/drive/MyDrive/Toán cho KHMT/folio/barbados cherry/20150324_170345.jpg',\n",
              " '/content/drive/MyDrive/Toán cho KHMT/folio/barbados cherry/20150324_170039.jpg',\n",
              " '/content/drive/MyDrive/Toán cho KHMT/folio/barbados cherry/20150324_170442.jpg',\n",
              " '/content/drive/MyDrive/Toán cho KHMT/folio/barbados cherry/20150324_170413.jpg',\n",
              " '/content/drive/MyDrive/Toán cho KHMT/folio/barbados cherry/20150324_170312.jpg',\n",
              " '/content/drive/MyDrive/Toán cho KHMT/folio/barbados cherry/20150324_170001.jpg',\n",
              " '/content/drive/MyDrive/Toán cho KHMT/folio/barbados cherry/20150324_170012.jpg',\n",
              " '/content/drive/MyDrive/Toán cho KHMT/folio/barbados cherry/20150324_165916.jpg',\n",
              " '/content/drive/MyDrive/Toán cho KHMT/folio/barbados cherry/20150324_170432.jpg',\n",
              " '/content/drive/MyDrive/Toán cho KHMT/folio/barbados cherry/20150324_165948.jpg',\n",
              " '/content/drive/MyDrive/Toán cho KHMT/folio/betel/20150714_110539.jpg',\n",
              " '/content/drive/MyDrive/Toán cho KHMT/folio/betel/20150714_110802.jpg',\n",
              " '/content/drive/MyDrive/Toán cho KHMT/folio/betel/20150714_110701.jpg',\n",
              " '/content/drive/MyDrive/Toán cho KHMT/folio/betel/20150714_110441.jpg',\n",
              " '/content/drive/MyDrive/Toán cho KHMT/folio/betel/20150714_110552.jpg',\n",
              " '/content/drive/MyDrive/Toán cho KHMT/folio/betel/20150714_110632.jpg',\n",
              " '/content/drive/MyDrive/Toán cho KHMT/folio/betel/20150714_110623.jpg',\n",
              " '/content/drive/MyDrive/Toán cho KHMT/folio/betel/20150714_110602.jpg',\n",
              " '/content/drive/MyDrive/Toán cho KHMT/folio/betel/20150714_110744.jpg',\n",
              " '/content/drive/MyDrive/Toán cho KHMT/folio/betel/20150714_110503.jpg',\n",
              " '/content/drive/MyDrive/Toán cho KHMT/folio/betel/20150714_110651.jpg',\n",
              " '/content/drive/MyDrive/Toán cho KHMT/folio/betel/20150714_110754.jpg',\n",
              " '/content/drive/MyDrive/Toán cho KHMT/folio/betel/20150714_110530.jpg',\n",
              " '/content/drive/MyDrive/Toán cho KHMT/folio/betel/20150714_110641.jpg',\n",
              " '/content/drive/MyDrive/Toán cho KHMT/folio/betel/20150714_110512.jpg',\n",
              " '/content/drive/MyDrive/Toán cho KHMT/folio/betel/20150714_110521.jpg',\n",
              " '/content/drive/MyDrive/Toán cho KHMT/folio/betel/20150714_110733.jpg',\n",
              " '/content/drive/MyDrive/Toán cho KHMT/folio/betel/20150714_110614.jpg',\n",
              " '/content/drive/MyDrive/Toán cho KHMT/folio/betel/20150714_110724.jpg',\n",
              " '/content/drive/MyDrive/Toán cho KHMT/folio/betel/20150714_110827.jpg',\n",
              " '/content/drive/MyDrive/Toán cho KHMT/folio/ashanti blood/20150324_153451.jpg',\n",
              " '/content/drive/MyDrive/Toán cho KHMT/folio/ashanti blood/20150324_153741.jpg',\n",
              " '/content/drive/MyDrive/Toán cho KHMT/folio/ashanti blood/20150324_153259.jpg',\n",
              " '/content/drive/MyDrive/Toán cho KHMT/folio/ashanti blood/20150324_155937.jpg',\n",
              " '/content/drive/MyDrive/Toán cho KHMT/folio/ashanti blood/20150324_153805.jpg',\n",
              " '/content/drive/MyDrive/Toán cho KHMT/folio/ashanti blood/20150324_155923.jpg',\n",
              " '/content/drive/MyDrive/Toán cho KHMT/folio/ashanti blood/20150324_153401.jpg',\n",
              " '/content/drive/MyDrive/Toán cho KHMT/folio/ashanti blood/20150324_153513.jpg',\n",
              " '/content/drive/MyDrive/Toán cho KHMT/folio/ashanti blood/20150324_153314.jpg',\n",
              " '/content/drive/MyDrive/Toán cho KHMT/folio/ashanti blood/20150324_153419.jpg',\n",
              " '/content/drive/MyDrive/Toán cho KHMT/folio/ashanti blood/20150324_155953.jpg',\n",
              " '/content/drive/MyDrive/Toán cho KHMT/folio/ashanti blood/20150324_160101.jpg',\n",
              " '/content/drive/MyDrive/Toán cho KHMT/folio/ashanti blood/20150324_153819.jpg',\n",
              " '/content/drive/MyDrive/Toán cho KHMT/folio/ashanti blood/20150324_155848.jpg',\n",
              " '/content/drive/MyDrive/Toán cho KHMT/folio/ashanti blood/20150324_155907.jpg',\n",
              " '/content/drive/MyDrive/Toán cho KHMT/folio/ashanti blood/20150324_153752.jpg',\n",
              " '/content/drive/MyDrive/Toán cho KHMT/folio/ashanti blood/20150324_153329.jpg',\n",
              " '/content/drive/MyDrive/Toán cho KHMT/folio/ashanti blood/20150324_160037.jpg',\n",
              " '/content/drive/MyDrive/Toán cho KHMT/folio/ashanti blood/20150324_153348.jpg',\n",
              " '/content/drive/MyDrive/Toán cho KHMT/folio/ashanti blood/20150324_155837.jpg',\n",
              " '/content/drive/MyDrive/Toán cho KHMT/folio/jackfruit/20150324_141025.jpg',\n",
              " '/content/drive/MyDrive/Toán cho KHMT/folio/jackfruit/20150324_141047.jpg',\n",
              " '/content/drive/MyDrive/Toán cho KHMT/folio/jackfruit/20150324_140943.jpg',\n",
              " '/content/drive/MyDrive/Toán cho KHMT/folio/jackfruit/20150324_140907.jpg',\n",
              " '/content/drive/MyDrive/Toán cho KHMT/folio/jackfruit/20150324_140717.jpg',\n",
              " '/content/drive/MyDrive/Toán cho KHMT/folio/jackfruit/20150324_141115.jpg',\n",
              " '/content/drive/MyDrive/Toán cho KHMT/folio/jackfruit/20150324_140921.jpg',\n",
              " '/content/drive/MyDrive/Toán cho KHMT/folio/jackfruit/20150324_141222.jpg',\n",
              " '/content/drive/MyDrive/Toán cho KHMT/folio/jackfruit/20150324_141004.jpg',\n",
              " '/content/drive/MyDrive/Toán cho KHMT/folio/jackfruit/20150324_141159.jpg',\n",
              " '/content/drive/MyDrive/Toán cho KHMT/folio/jackfruit/20150324_141210.jpg',\n",
              " '/content/drive/MyDrive/Toán cho KHMT/folio/jackfruit/20150324_141133.jpg',\n",
              " '/content/drive/MyDrive/Toán cho KHMT/folio/jackfruit/20150324_140820.jpg',\n",
              " '/content/drive/MyDrive/Toán cho KHMT/folio/jackfruit/20150324_140930.jpg',\n",
              " '/content/drive/MyDrive/Toán cho KHMT/folio/jackfruit/20150324_140845.jpg',\n",
              " '/content/drive/MyDrive/Toán cho KHMT/folio/jackfruit/20150324_141056.jpg',\n",
              " '/content/drive/MyDrive/Toán cho KHMT/folio/jackfruit/20150324_140956.jpg',\n",
              " '/content/drive/MyDrive/Toán cho KHMT/folio/jackfruit/20150324_140523.jpg',\n",
              " '/content/drive/MyDrive/Toán cho KHMT/folio/jackfruit/20150324_141257.jpg',\n",
              " '/content/drive/MyDrive/Toán cho KHMT/folio/jackfruit/20150324_140419.jpg',\n",
              " '/content/drive/MyDrive/Toán cho KHMT/folio/bitter orange/BO9.jpg',\n",
              " '/content/drive/MyDrive/Toán cho KHMT/folio/bitter orange/BO17.jpg',\n",
              " '/content/drive/MyDrive/Toán cho KHMT/folio/bitter orange/BO20.jpg',\n",
              " '/content/drive/MyDrive/Toán cho KHMT/folio/bitter orange/BO6.jpg',\n",
              " '/content/drive/MyDrive/Toán cho KHMT/folio/bitter orange/BO21.jpg',\n",
              " '/content/drive/MyDrive/Toán cho KHMT/folio/bitter orange/BO7.jpg',\n",
              " '/content/drive/MyDrive/Toán cho KHMT/folio/bitter orange/BO15.jpg',\n",
              " '/content/drive/MyDrive/Toán cho KHMT/folio/bitter orange/BO8.jpg',\n",
              " '/content/drive/MyDrive/Toán cho KHMT/folio/bitter orange/BO19.jpg',\n",
              " '/content/drive/MyDrive/Toán cho KHMT/folio/bitter orange/BO2.jpg',\n",
              " '/content/drive/MyDrive/Toán cho KHMT/folio/bitter orange/BO18.jpg',\n",
              " '/content/drive/MyDrive/Toán cho KHMT/folio/bitter orange/BO14.jpg',\n",
              " '/content/drive/MyDrive/Toán cho KHMT/folio/bitter orange/BO4.jpg',\n",
              " '/content/drive/MyDrive/Toán cho KHMT/folio/bitter orange/BO10.jpg',\n",
              " '/content/drive/MyDrive/Toán cho KHMT/folio/bitter orange/BO13.jpg',\n",
              " '/content/drive/MyDrive/Toán cho KHMT/folio/bitter orange/BO1.jpg',\n",
              " '/content/drive/MyDrive/Toán cho KHMT/folio/bitter orange/BO3.jpg',\n",
              " '/content/drive/MyDrive/Toán cho KHMT/folio/bitter orange/BO11.jpg',\n",
              " '/content/drive/MyDrive/Toán cho KHMT/folio/bitter orange/BO5.jpg',\n",
              " '/content/drive/MyDrive/Toán cho KHMT/folio/bitter orange/BO12.jpg',\n",
              " '/content/drive/MyDrive/Toán cho KHMT/folio/croton/20150410_154246.jpg',\n",
              " '/content/drive/MyDrive/Toán cho KHMT/folio/croton/20150410_154232.jpg',\n",
              " '/content/drive/MyDrive/Toán cho KHMT/folio/croton/20150410_154221.jpg',\n",
              " '/content/drive/MyDrive/Toán cho KHMT/folio/croton/20150410_154353.jpg',\n",
              " '/content/drive/MyDrive/Toán cho KHMT/folio/croton/20150410_154443.jpg',\n",
              " '/content/drive/MyDrive/Toán cho KHMT/folio/croton/20150410_154404.jpg',\n",
              " '/content/drive/MyDrive/Toán cho KHMT/folio/croton/20150410_154509.jpg',\n",
              " '/content/drive/MyDrive/Toán cho KHMT/folio/croton/20150410_154329.jpg',\n",
              " '/content/drive/MyDrive/Toán cho KHMT/folio/croton/20150410_154303.jpg',\n",
              " '/content/drive/MyDrive/Toán cho KHMT/folio/croton/20150410_154519.jpg',\n",
              " '/content/drive/MyDrive/Toán cho KHMT/folio/croton/20150410_154201.jpg',\n",
              " '/content/drive/MyDrive/Toán cho KHMT/folio/croton/20150410_154433.jpg',\n",
              " '/content/drive/MyDrive/Toán cho KHMT/folio/croton/20150410_154312.jpg',\n",
              " '/content/drive/MyDrive/Toán cho KHMT/folio/croton/20150410_154340.jpg',\n",
              " '/content/drive/MyDrive/Toán cho KHMT/folio/croton/20150410_154421.jpg',\n",
              " '/content/drive/MyDrive/Toán cho KHMT/folio/croton/20150410_154454.jpg',\n",
              " '/content/drive/MyDrive/Toán cho KHMT/folio/croton/20150410_154529.jpg',\n",
              " '/content/drive/MyDrive/Toán cho KHMT/folio/croton/20150410_154211.jpg',\n",
              " '/content/drive/MyDrive/Toán cho KHMT/folio/croton/20150410_154150.jpg',\n",
              " '/content/drive/MyDrive/Toán cho KHMT/folio/croton/20150410_154320.jpg']"
            ]
          },
          "execution_count": 49,
          "metadata": {},
          "output_type": "execute_result"
        }
      ],
      "source": [
        "import os\n",
        "src = \"/content/drive/MyDrive/Toán cho KHMT/folio\"\n",
        "\n",
        "def get_filepaths(directory):\n",
        "    \"\"\"\n",
        "    This function will generate the file names in a directory \n",
        "    tree by walking the tree either top-down or bottom-up. For each \n",
        "    directory in the tree rooted at directory top (including top itself), \n",
        "    it yields a 3-tuple (dirpath, dirnames, filenames).\n",
        "    \"\"\"\n",
        "    file_paths = []  # List which will store all of the full filepaths.\n",
        "\n",
        "    # Walk the tree.\n",
        "    for root, directories, files in os.walk(directory):\n",
        "        for filename in files:\n",
        "            y.append(root.replace(directory,\"\"))\n",
        "            print(root.replace(directory,\"\"))\n",
        "            # Join the two strings in order to form the full filepath.\n",
        "            filepath = os.path.join(root, filename)\n",
        "            file_paths.append(filepath)  # Add it to the list.\n",
        "\n",
        "    return file_paths  # Self-explanatory.\n",
        "\n",
        "# Run the above function and store its results in a variable.   \n",
        "full_file_paths = get_filepaths(src)\n",
        "\n",
        "full_file_paths\n"
      ]
    },
    {
      "cell_type": "code",
      "execution_count": 50,
      "metadata": {
        "id": "4AsEl8jEV2_H"
      },
      "outputs": [],
      "source": [
        "def resize(image,scale=0.1):\n",
        "  return cv2.resize(image, (int(image.shape[0]*scale), int(image.shape[1]*scale)))"
      ]
    },
    {
      "cell_type": "code",
      "execution_count": 51,
      "metadata": {
        "id": "GIYO3WmVLfpn"
      },
      "outputs": [],
      "source": [
        "for path_image in full_file_paths:\n",
        "  matrix_img = cv2.imread(path_image, 0) \n",
        "  new_matrix_img = resize(matrix_img)\n",
        "  X.append(new_matrix_img)"
      ]
    },
    {
      "cell_type": "code",
      "execution_count": 52,
      "metadata": {
        "colab": {
          "base_uri": "https://localhost:8080/"
        },
        "id": "ZsoJ-7YlYQNt",
        "outputId": "337c510e-a2bc-45be-e350-63776340999f"
      },
      "outputs": [
        {
          "name": "stdout",
          "output_type": "stream",
          "text": [
            "199\n",
            "199\n"
          ]
        }
      ],
      "source": [
        "X = np.array(X)\n",
        "y = np.array(y)\n",
        "print(len(X))\n",
        "print(len(y))\n",
        "#print(y.shape)\n",
        "#y = LabelEncoder().fit_transform(y)\n",
        "#print(y)"
      ]
    },
    {
      "cell_type": "code",
      "execution_count": 53,
      "metadata": {
        "id": "SLaby2zjaanZ"
      },
      "outputs": [],
      "source": [
        "X_train, X_test, y_train, y_test = train_test_split(X,y,test_size=0.3,random_state=1)"
      ]
    },
    {
      "cell_type": "code",
      "execution_count": 54,
      "metadata": {
        "id": "NTMbMKGtj590"
      },
      "outputs": [],
      "source": [
        "def convert_to_1D (image):\n",
        "  return np.reshape(image, image.shape[0] * image.shape[1])"
      ]
    },
    {
      "cell_type": "code",
      "execution_count": 55,
      "metadata": {
        "id": "EVFD1KTBkj3X"
      },
      "outputs": [],
      "source": [
        "X_train_new = [ ]\n",
        "X_test_new = [ ]\n",
        "for x in X_train:\n",
        "  X_train_new.append(convert_to_1D(x))\n",
        "for x in X_test:\n",
        "  X_test_new.append(convert_to_1D(x))"
      ]
    },
    {
      "cell_type": "code",
      "execution_count": 56,
      "metadata": {
        "id": "AaO5tum5lHoV"
      },
      "outputs": [],
      "source": [
        "clf = LogisticRegression(max_iter=10000, random_state=1, n_jobs=2)\n",
        "clf.fit(X_train_new, y_train)\n",
        "y_pred = clf.predict(X_test_new)"
      ]
    },
    {
      "cell_type": "code",
      "execution_count": 57,
      "metadata": {
        "colab": {
          "base_uri": "https://localhost:8080/"
        },
        "id": "lwsgfn8Wycon",
        "outputId": "49227dce-4c94-4358-f8c0-219cc5f017e0"
      },
      "outputs": [
        {
          "name": "stdout",
          "output_type": "stream",
          "text": [
            "['/bitter orange' '/mulberry leaf' '/coeur demoiselle' '/coffee'\n",
            " '/jackfruit' '/croton' '/barbados cherry' '/caricature plant'\n",
            " '/coeur demoiselle' '/bitter orange' '/mulberry leaf' '/caricature plant'\n",
            " '/caricature plant' '/bitter orange' '/jackfruit' '/betel' '/betel'\n",
            " '/barbados cherry' '/betel' '/mulberry leaf' '/mulberry leaf'\n",
            " '/caricature plant' '/mulberry leaf' '/barbados cherry'\n",
            " '/coeur demoiselle' '/croton' '/betel' '/coeur demoiselle'\n",
            " '/bitter orange' '/barbados cherry' '/mulberry leaf' '/bitter orange'\n",
            " '/coffee' '/jackfruit' '/coffee' '/ashanti blood' '/ashanti blood'\n",
            " '/bitter orange' '/coffee' '/betel' '/betel' '/betel' '/mulberry leaf'\n",
            " '/caricature plant' '/betel' '/caricature plant' '/jackfruit'\n",
            " '/coeur demoiselle' '/mulberry leaf' '/mulberry leaf' '/barbados cherry'\n",
            " '/ashanti blood' '/bitter orange' '/coeur demoiselle' '/croton' '/croton'\n",
            " '/coffee' '/croton' '/jackfruit' '/jackfruit']\n"
          ]
        }
      ],
      "source": [
        "print(y_pred)"
      ]
    },
    {
      "cell_type": "code",
      "execution_count": 58,
      "metadata": {
        "colab": {
          "base_uri": "https://localhost:8080/"
        },
        "id": "_SF0sglCnEME",
        "outputId": "a1f3b572-eab4-417c-9cfc-69889d02ca40"
      },
      "outputs": [
        {
          "name": "stdout",
          "output_type": "stream",
          "text": [
            "Accuracy: 0.8166666666666667\n",
            "Precision: 0.8152777777777779\n",
            "Recall: 0.7991666666666667\n",
            "F1: 0.793611111111111\n",
            "                   precision    recall  f1-score   support\n",
            "\n",
            "   /ashanti blood       1.00      0.60      0.75         5\n",
            " /barbados cherry       0.60      0.60      0.60         5\n",
            "           /betel       0.88      1.00      0.93         7\n",
            "   /bitter orange       1.00      0.88      0.93         8\n",
            "/caricature plant       1.00      1.00      1.00         6\n",
            "/coeur demoiselle       1.00      0.67      0.80         9\n",
            "          /coffee       0.40      0.50      0.44         4\n",
            "          /croton       1.00      1.00      1.00         5\n",
            "       /jackfruit       0.50      0.75      0.60         4\n",
            "   /mulberry leaf       0.78      1.00      0.88         7\n",
            "\n",
            "         accuracy                           0.82        60\n",
            "        macro avg       0.82      0.80      0.79        60\n",
            "     weighted avg       0.85      0.82      0.82        60\n",
            "\n"
          ]
        }
      ],
      "source": [
        "print('Accuracy:', accuracy_score(y_test, y_pred))\n",
        "print('Precision:', precision_score(y_test, y_pred,average='macro'))\n",
        "print('Recall:', recall_score(y_test, y_pred,average='macro'))\n",
        "print('F1:', f1_score(y_test, y_pred,average='macro'))\n",
        "print(classification_report(y_test, y_pred))\n"
      ]
    },
    {
      "cell_type": "code",
      "execution_count": 59,
      "metadata": {
        "id": "x5jT2JbnoKoZ"
      },
      "outputs": [],
      "source": [
        "def calculate_hog (image):\n",
        "  return hog(image, orientations=9, pixels_per_cell=(16, 16),cells_per_block=(2, 2), block_norm='L2')"
      ]
    },
    {
      "cell_type": "code",
      "execution_count": 60,
      "metadata": {
        "id": "wbWvCgjtob4y"
      },
      "outputs": [],
      "source": [
        "X1_train_new = [ ]\n",
        "X1_test_new = [ ]\n",
        "for x in X_train:\n",
        "  X1_train_new.append(calculate_hog(x))\n",
        "for x in X_test:\n",
        "  X1_test_new.append(calculate_hog(x))"
      ]
    },
    {
      "cell_type": "code",
      "execution_count": 61,
      "metadata": {
        "id": "ysH7P8GCpBVw"
      },
      "outputs": [],
      "source": [
        "from sklearn.linear_model import LogisticRegression\n",
        "clf = LogisticRegression(max_iter=10000, random_state=1, n_jobs=2)\n",
        "clf.fit(X1_train_new, y_train)\n",
        "y1_pred = clf.predict(X1_test_new)"
      ]
    },
    {
      "cell_type": "code",
      "execution_count": 62,
      "metadata": {
        "colab": {
          "base_uri": "https://localhost:8080/"
        },
        "id": "TC9fZydMyQDm",
        "outputId": "4a1c1cff-6c93-47f1-dcc9-2d2ff2cb70b0"
      },
      "outputs": [
        {
          "name": "stdout",
          "output_type": "stream",
          "text": [
            "['/bitter orange' '/mulberry leaf' '/coeur demoiselle' '/coffee'\n",
            " '/jackfruit' '/croton' '/barbados cherry' '/coffee' '/coeur demoiselle'\n",
            " '/bitter orange' '/mulberry leaf' '/caricature plant' '/caricature plant'\n",
            " '/bitter orange' '/jackfruit' '/betel' '/betel' '/coeur demoiselle'\n",
            " '/betel' '/mulberry leaf' '/mulberry leaf' '/caricature plant'\n",
            " '/mulberry leaf' '/barbados cherry' '/coeur demoiselle' '/croton'\n",
            " '/coeur demoiselle' '/coeur demoiselle' '/bitter orange'\n",
            " '/coeur demoiselle' '/mulberry leaf' '/bitter orange' '/coffee'\n",
            " '/jackfruit' '/coffee' '/ashanti blood' '/ashanti blood' '/bitter orange'\n",
            " '/coffee' '/betel' '/betel' '/betel' '/mulberry leaf' '/caricature plant'\n",
            " '/betel' '/caricature plant' '/coffee' '/coeur demoiselle'\n",
            " '/mulberry leaf' '/ashanti blood' '/barbados cherry' '/ashanti blood'\n",
            " '/bitter orange' '/coeur demoiselle' '/croton' '/croton'\n",
            " '/barbados cherry' '/croton' '/bitter orange' '/coffee']\n"
          ]
        }
      ],
      "source": [
        "print(y1_pred)"
      ]
    },
    {
      "cell_type": "code",
      "execution_count": 63,
      "metadata": {
        "colab": {
          "base_uri": "https://localhost:8080/"
        },
        "id": "w7wfRR3epHbf",
        "outputId": "d788e4c3-88d3-4134-ff19-29a6d367b42e"
      },
      "outputs": [
        {
          "name": "stdout",
          "output_type": "stream",
          "text": [
            "Accuracy: 0.9333333333333333\n",
            "Precision: 0.9446428571428571\n",
            "Recall: 0.9183333333333333\n",
            "F1: 0.9204617604617604\n",
            "                   precision    recall  f1-score   support\n",
            "\n",
            "   /ashanti blood       1.00      0.80      0.89         5\n",
            " /barbados cherry       1.00      0.80      0.89         5\n",
            "           /betel       1.00      1.00      1.00         7\n",
            "   /bitter orange       1.00      1.00      1.00         8\n",
            "/caricature plant       1.00      0.83      0.91         6\n",
            "/coeur demoiselle       1.00      1.00      1.00         9\n",
            "          /coffee       0.57      1.00      0.73         4\n",
            "          /croton       1.00      1.00      1.00         5\n",
            "       /jackfruit       1.00      0.75      0.86         4\n",
            "   /mulberry leaf       0.88      1.00      0.93         7\n",
            "\n",
            "         accuracy                           0.93        60\n",
            "        macro avg       0.94      0.92      0.92        60\n",
            "     weighted avg       0.96      0.93      0.94        60\n",
            "\n"
          ]
        }
      ],
      "source": [
        "print('Accuracy:', accuracy_score(y_test, y1_pred))\n",
        "print('Precision:', precision_score(y_test, y1_pred,average='macro'))\n",
        "print('Recall:', recall_score(y_test, y1_pred,average='macro'))\n",
        "print('F1:', f1_score(y_test, y1_pred,average='macro'))\n",
        "print(classification_report(y_test, y1_pred))"
      ]
    }
  ],
  "metadata": {
    "colab": {
      "collapsed_sections": [],
      "name": "20520332_Logistic_Regression.ipynb",
      "provenance": []
    },
    "kernelspec": {
      "display_name": "Python 3",
      "name": "python3"
    },
    "language_info": {
      "name": "python"
    }
  },
  "nbformat": 4,
  "nbformat_minor": 0
}
